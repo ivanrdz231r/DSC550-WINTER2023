{
 "cells": [
  {
   "cell_type": "markdown",
   "id": "bfa049ad",
   "metadata": {},
   "source": [
    "# Week 3 Sentiment Analysis and Processing Text: Exercise 3.2"
   ]
  },
  {
   "cell_type": "markdown",
   "id": "96c3ea89",
   "metadata": {},
   "source": [
    "## 1) Using the TextBlob Sentiment Analyzer:"
   ]
  },
  {
   "cell_type": "markdown",
   "id": "0af97293",
   "metadata": {},
   "source": [
    "***Instructions)***\n",
    "\n",
    "1) Import the movie review data as a data frame and ensure that the data is loaded properly.\n",
    "2) How many of each positive and negative reviews are there?\n",
    "3) Use TextBlob to classify each movie review as positive or negative. Assume that a polarity score greater than or equal to zero is a positive sentiment and less than 0 is a negative sentiment.\n",
    "4) Check the accuracy of this model. Is this model better than random guessing?\n",
    "5) For up to five points extra credit, use another prebuilt text sentiment analyzer, e.g., VADER, and repeat steps (3) and (4)."
   ]
  },
  {
   "cell_type": "markdown",
   "id": "f692af1f",
   "metadata": {},
   "source": [
    "***Answer)***"
   ]
  },
  {
   "cell_type": "markdown",
   "id": "dbc4f129",
   "metadata": {},
   "source": [
    "**1) Opening and Reading the data**"
   ]
  },
  {
   "cell_type": "code",
   "execution_count": 1,
   "id": "a3fa194b",
   "metadata": {},
   "outputs": [
    {
     "data": {
      "text/html": [
       "<div>\n",
       "<style scoped>\n",
       "    .dataframe tbody tr th:only-of-type {\n",
       "        vertical-align: middle;\n",
       "    }\n",
       "\n",
       "    .dataframe tbody tr th {\n",
       "        vertical-align: top;\n",
       "    }\n",
       "\n",
       "    .dataframe thead th {\n",
       "        text-align: right;\n",
       "    }\n",
       "</style>\n",
       "<table border=\"1\" class=\"dataframe\">\n",
       "  <thead>\n",
       "    <tr style=\"text-align: right;\">\n",
       "      <th></th>\n",
       "      <th>id</th>\n",
       "      <th>sentiment</th>\n",
       "      <th>review</th>\n",
       "    </tr>\n",
       "  </thead>\n",
       "  <tbody>\n",
       "    <tr>\n",
       "      <th>0</th>\n",
       "      <td>5814_8</td>\n",
       "      <td>1</td>\n",
       "      <td>With all this stuff going down at the moment w...</td>\n",
       "    </tr>\n",
       "    <tr>\n",
       "      <th>1</th>\n",
       "      <td>2381_9</td>\n",
       "      <td>1</td>\n",
       "      <td>\\The Classic War of the Worlds\\\" by Timothy Hi...</td>\n",
       "    </tr>\n",
       "    <tr>\n",
       "      <th>2</th>\n",
       "      <td>7759_3</td>\n",
       "      <td>0</td>\n",
       "      <td>The film starts with a manager (Nicholas Bell)...</td>\n",
       "    </tr>\n",
       "    <tr>\n",
       "      <th>3</th>\n",
       "      <td>3630_4</td>\n",
       "      <td>0</td>\n",
       "      <td>It must be assumed that those who praised this...</td>\n",
       "    </tr>\n",
       "    <tr>\n",
       "      <th>4</th>\n",
       "      <td>9495_8</td>\n",
       "      <td>1</td>\n",
       "      <td>Superbly trashy and wondrously unpretentious 8...</td>\n",
       "    </tr>\n",
       "  </tbody>\n",
       "</table>\n",
       "</div>"
      ],
      "text/plain": [
       "       id  sentiment                                             review\n",
       "0  5814_8          1  With all this stuff going down at the moment w...\n",
       "1  2381_9          1  \\The Classic War of the Worlds\\\" by Timothy Hi...\n",
       "2  7759_3          0  The film starts with a manager (Nicholas Bell)...\n",
       "3  3630_4          0  It must be assumed that those who praised this...\n",
       "4  9495_8          1  Superbly trashy and wondrously unpretentious 8..."
      ]
     },
     "execution_count": 1,
     "metadata": {},
     "output_type": "execute_result"
    }
   ],
   "source": [
    "import pandas as pd\n",
    "\n",
    "# importing and reading the data\n",
    "file_path = 'C:/Users/ivan2/gitLocal/DSC550-WINTER2023/Week3-word2vec-nlp-tutorial/labeledTrainData.tsv/labeledTrainData.tsv'\n",
    "\n",
    "lbd_train_data = pd.read_csv(file_path, sep='\\t')\n",
    "lbd_train_data.head(5)\n"
   ]
  },
  {
   "cell_type": "code",
   "execution_count": 2,
   "id": "730853fc",
   "metadata": {},
   "outputs": [
    {
     "data": {
      "text/plain": [
       "(25000, 3)"
      ]
     },
     "execution_count": 2,
     "metadata": {},
     "output_type": "execute_result"
    }
   ],
   "source": [
    "lbd_train_data.shape"
   ]
  },
  {
   "cell_type": "markdown",
   "id": "caeb8a35",
   "metadata": {},
   "source": [
    "**2) Counting the positive and negative reviews**\n",
    "\n",
    "There are 12,500 positive sentiments and 12,500 negatvie sentimetns."
   ]
  },
  {
   "cell_type": "code",
   "execution_count": 3,
   "id": "0bc56446",
   "metadata": {},
   "outputs": [
    {
     "data": {
      "text/plain": [
       "1    12500\n",
       "0    12500\n",
       "Name: sentiment, dtype: int64"
      ]
     },
     "execution_count": 3,
     "metadata": {},
     "output_type": "execute_result"
    }
   ],
   "source": [
    "# Review sentiment value counts\n",
    "train_sentiment_counts = lbd_train_data['sentiment'].value_counts()\n",
    "train_sentiment_counts"
   ]
  },
  {
   "cell_type": "markdown",
   "id": "d22b7ab5",
   "metadata": {},
   "source": [
    "**3 & 4) TextBlob**"
   ]
  },
  {
   "cell_type": "markdown",
   "id": "1173a9c6",
   "metadata": {},
   "source": [
    "The TextBlob library is used for NLP tasks for processing textual data and extracting insights from it. In this case we are using it for Sentiment Analysis."
   ]
  },
  {
   "cell_type": "code",
   "execution_count": 4,
   "id": "6fb502bc",
   "metadata": {},
   "outputs": [
    {
     "data": {
      "text/plain": [
       "0.68524"
      ]
     },
     "execution_count": 4,
     "metadata": {},
     "output_type": "execute_result"
    }
   ],
   "source": [
    "from textblob import TextBlob\n",
    "\n",
    "# Function to classify sentiment using TextBlob\n",
    "def classify_sentiment(text):\n",
    "    analysis = TextBlob(text)\n",
    "    return 1 if analysis.sentiment.polarity >= 0 else 0\n",
    "\n",
    "# Apply the function to classify each review\n",
    "lbd_train_data['predicted_sentiment'] = lbd_train_data['review'].apply(classify_sentiment)\n",
    "\n",
    "# Calculate the accuracy\n",
    "accuracy = (lbd_train_data['predicted_sentiment'] == lbd_train_data['sentiment']).mean()\n",
    "accuracy"
   ]
  },
  {
   "cell_type": "markdown",
   "id": "9ea9bfe3",
   "metadata": {},
   "source": [
    "After appplying the TextBlob we get an accuracy of 68%. We can assume a 50% accuracy for random guessing in a binary classification, so in our case the TextBlob analyzer is better than random guessing."
   ]
  },
  {
   "cell_type": "markdown",
   "id": "94701a25",
   "metadata": {},
   "source": [
    "**5) Extra Credit**"
   ]
  },
  {
   "cell_type": "code",
   "execution_count": null,
   "id": "8ad4164e",
   "metadata": {},
   "outputs": [],
   "source": []
  },
  {
   "cell_type": "markdown",
   "id": "d5c58526",
   "metadata": {},
   "source": [
    "## 2) Prepping Text for a Custom Model:"
   ]
  },
  {
   "cell_type": "markdown",
   "id": "0b6db25b",
   "metadata": {},
   "source": [
    "***Instructions)***\n",
    "\n",
    "If you want to run your own model to classify text, it needs to be in proper form to do so. The following steps will outline a procedure to do this on the movie reviews text.\n",
    "\n",
    "1) Convert all text to lowercase letters.\n",
    "2) Remove punctuation and special characters from the text.\n",
    "3) Remove stop words.\n",
    "4) Apply NLTK’s PorterStemmer.\n",
    "5) Create a bag-of-words matrix from your stemmed text (output from (4)), where each row is a word-count vector for a single movie review (see sections 5.3 & 6.8 in the Machine Learning with Python Cookbook). Display the dimensions of your bag-of-words matrix. The number of rows in this matrix should be the same as the number of rows in your original data frame.\n",
    "6) Create a term frequency-inverse document frequency (tf-idf) matrix from your stemmed text, for your movie reviews (see section 6.9 in the Machine Learning with Python Cookbook). Display the dimensions of your tf-idf matrix. These dimensions should be the same as your bag-of-words matrix."
   ]
  },
  {
   "cell_type": "markdown",
   "id": "875221b0",
   "metadata": {},
   "source": [
    "**0) Remving HTML**"
   ]
  },
  {
   "cell_type": "markdown",
   "id": "9a47823a",
   "metadata": {},
   "source": [
    "This step was not specifically included in the instructions but it is still recommended to do this step."
   ]
  },
  {
   "cell_type": "code",
   "execution_count": 5,
   "id": "5dc1e438",
   "metadata": {},
   "outputs": [
    {
     "name": "stdout",
     "output_type": "stream",
     "text": [
      "With all this stuff going down at the moment with MJ i've started listening to his music, watching the odd documentary here and there, watched The Wiz and watched Moonwalker again. Maybe i just want to get a certain insight into this guy who i thought was really cool in the eighties just to maybe make up my mind whether he is guilty or innocent. Moonwalker is part biography, part feature film which i remember going to see at the cinema when it was originally released. Some of it has subtle messages about MJ's feeling towards the press and also the obvious message of drugs are bad m'kay.<br /><br />Visually impressive but of course this is all about Michael Jackson so unless you remotely like MJ in anyway then you are going to hate this and find it boring. Some may call MJ an egotist for consenting to the making of this movie BUT MJ and most of his fans would say that he made it for the fans which if true is really nice of him.<br /><br />The actual feature film bit when it finally starts is only on for 20 minutes or so excluding the Smooth Criminal sequence and Joe Pesci is convincing as a psychopathic all powerful drug lord. Why he wants MJ dead so bad is beyond me. Because MJ overheard his plans? Nah, Joe Pesci's character ranted that he wanted people to know it is he who is supplying drugs etc so i dunno, maybe he just hates MJ's music.<br /><br />Lots of cool things in this like MJ turning into a car and a robot and the whole Speed Demon sequence. Also, the director must have had the patience of a saint when it came to filming the kiddy Bad sequence as usually directors hate working with one kid let alone a whole bunch of them performing a complex dance scene.<br /><br />Bottom line, this movie is for people who like MJ on one level or another (which i think is most people). If not, then stay away. It does try and give off a wholesome message and ironically MJ's bestest buddy in this movie is a girl! Michael Jackson is truly one of the most talented people ever to grace this planet but is he guilty? Well, with all the attention i've gave this subject....hmmm well i don't know because people can be different behind closed doors, i know this for a fact. He is either an extremely nice but stupid guy or one of the most sickest liars. I hope he is not the latter.\n"
     ]
    }
   ],
   "source": [
    "# Checking for html tags\n",
    "print(lbd_train_data[\"review\"][0])"
   ]
  },
  {
   "cell_type": "code",
   "execution_count": 6,
   "id": "b534813b",
   "metadata": {},
   "outputs": [
    {
     "name": "stderr",
     "output_type": "stream",
     "text": [
      "C:\\Users\\ivan2\\AppData\\Local\\Temp\\ipykernel_19536\\585573382.py:6: MarkupResemblesLocatorWarning: The input looks more like a filename than markup. You may want to open this file and pass the filehandle into Beautiful Soup.\n",
      "  return BeautifulSoup(text, \"html.parser\").get_text()\n"
     ]
    },
    {
     "name": "stdout",
     "output_type": "stream",
     "text": [
      "With all this stuff going down at the moment with MJ i've started listening to his music, watching the odd documentary here and there, watched The Wiz and watched Moonwalker again. Maybe i just want to get a certain insight into this guy who i thought was really cool in the eighties just to maybe make up my mind whether he is guilty or innocent. Moonwalker is part biography, part feature film which i remember going to see at the cinema when it was originally released. Some of it has subtle messages about MJ's feeling towards the press and also the obvious message of drugs are bad m'kay.Visually impressive but of course this is all about Michael Jackson so unless you remotely like MJ in anyway then you are going to hate this and find it boring. Some may call MJ an egotist for consenting to the making of this movie BUT MJ and most of his fans would say that he made it for the fans which if true is really nice of him.The actual feature film bit when it finally starts is only on for 20 minutes or so excluding the Smooth Criminal sequence and Joe Pesci is convincing as a psychopathic all powerful drug lord. Why he wants MJ dead so bad is beyond me. Because MJ overheard his plans? Nah, Joe Pesci's character ranted that he wanted people to know it is he who is supplying drugs etc so i dunno, maybe he just hates MJ's music.Lots of cool things in this like MJ turning into a car and a robot and the whole Speed Demon sequence. Also, the director must have had the patience of a saint when it came to filming the kiddy Bad sequence as usually directors hate working with one kid let alone a whole bunch of them performing a complex dance scene.Bottom line, this movie is for people who like MJ on one level or another (which i think is most people). If not, then stay away. It does try and give off a wholesome message and ironically MJ's bestest buddy in this movie is a girl! Michael Jackson is truly one of the most talented people ever to grace this planet but is he guilty? Well, with all the attention i've gave this subject....hmmm well i don't know because people can be different behind closed doors, i know this for a fact. He is either an extremely nice but stupid guy or one of the most sickest liars. I hope he is not the latter.\n"
     ]
    }
   ],
   "source": [
    "# Import BeautifulSoup to remove HTML tags\n",
    "from bs4 import BeautifulSoup\n",
    "\n",
    "# Define a function to apply BeautifulSoup and get text\n",
    "def remove_html(text):\n",
    "    return BeautifulSoup(text, \"html.parser\").get_text()\n",
    "\n",
    "# Appling the BeautifulSoup function directly to the review column\n",
    "lbd_train_data['review'] = lbd_train_data['review'].apply(remove_html)\n",
    "print(lbd_train_data['review'][0])"
   ]
  },
  {
   "cell_type": "markdown",
   "id": "77f9eea1",
   "metadata": {},
   "source": [
    "**1) Convert all text to lowercase**"
   ]
  },
  {
   "cell_type": "code",
   "execution_count": 7,
   "id": "3708a734",
   "metadata": {},
   "outputs": [],
   "source": [
    "# Convert all text to lower case in the data frame\n",
    "lbd_train_data['review'] = lbd_train_data['review'].str.lower()"
   ]
  },
  {
   "cell_type": "markdown",
   "id": "85d9a562",
   "metadata": {},
   "source": [
    "**2) Remove Punctuations and Special Characters**"
   ]
  },
  {
   "cell_type": "code",
   "execution_count": 8,
   "id": "bfb0a19c",
   "metadata": {},
   "outputs": [
    {
     "name": "stdout",
     "output_type": "stream",
     "text": [
      "with all this stuff going down at the moment with mj ive started listening to his music watching the odd documentary here and there watched the wiz and watched moonwalker again maybe i just want to get a certain insight into this guy who i thought was really cool in the eighties just to maybe make up my mind whether he is guilty or innocent moonwalker is part biography part feature film which i remember going to see at the cinema when it was originally released some of it has subtle messages about mjs feeling towards the press and also the obvious message of drugs are bad mkayvisually impressive but of course this is all about michael jackson so unless you remotely like mj in anyway then you are going to hate this and find it boring some may call mj an egotist for consenting to the making of this movie but mj and most of his fans would say that he made it for the fans which if true is really nice of himthe actual feature film bit when it finally starts is only on for 20 minutes or so excluding the smooth criminal sequence and joe pesci is convincing as a psychopathic all powerful drug lord why he wants mj dead so bad is beyond me because mj overheard his plans nah joe pescis character ranted that he wanted people to know it is he who is supplying drugs etc so i dunno maybe he just hates mjs musiclots of cool things in this like mj turning into a car and a robot and the whole speed demon sequence also the director must have had the patience of a saint when it came to filming the kiddy bad sequence as usually directors hate working with one kid let alone a whole bunch of them performing a complex dance scenebottom line this movie is for people who like mj on one level or another which i think is most people if not then stay away it does try and give off a wholesome message and ironically mjs bestest buddy in this movie is a girl michael jackson is truly one of the most talented people ever to grace this planet but is he guilty well with all the attention ive gave this subjecthmmm well i dont know because people can be different behind closed doors i know this for a fact he is either an extremely nice but stupid guy or one of the most sickest liars i hope he is not the latter\n"
     ]
    }
   ],
   "source": [
    "import re\n",
    "\n",
    "# Replace punctuations and special characters with an empty string\n",
    "# The regular expression '[^\\w\\s]' matches any character that is not a word character (alphanumeric) or whitespace\n",
    "lbd_train_data['review'] = lbd_train_data['review'].str.replace('[^\\w\\s]', '', regex=True)\n",
    "\n",
    "print(lbd_train_data['review'][0])"
   ]
  },
  {
   "cell_type": "markdown",
   "id": "4fec7aba",
   "metadata": {},
   "source": [
    "**3) Remove stop words**"
   ]
  },
  {
   "cell_type": "code",
   "execution_count": 9,
   "id": "42cae51e",
   "metadata": {},
   "outputs": [
    {
     "name": "stdout",
     "output_type": "stream",
     "text": [
      "['i', 'me', 'my', 'myself', 'we', 'our', 'ours', 'ourselves', 'you', \"you're\", \"you've\", \"you'll\", \"you'd\", 'your', 'yours', 'yourself', 'yourselves', 'he', 'him', 'his', 'himself', 'she', \"she's\", 'her', 'hers', 'herself', 'it', \"it's\", 'its', 'itself', 'they', 'them', 'their', 'theirs', 'themselves', 'what', 'which', 'who', 'whom', 'this', 'that', \"that'll\", 'these', 'those', 'am', 'is', 'are', 'was', 'were', 'be', 'been', 'being', 'have', 'has', 'had', 'having', 'do', 'does', 'did', 'doing', 'a', 'an', 'the', 'and', 'but', 'if', 'or', 'because', 'as', 'until', 'while', 'of', 'at', 'by', 'for', 'with', 'about', 'against', 'between', 'into', 'through', 'during', 'before', 'after', 'above', 'below', 'to', 'from', 'up', 'down', 'in', 'out', 'on', 'off', 'over', 'under', 'again', 'further', 'then', 'once', 'here', 'there', 'when', 'where', 'why', 'how', 'all', 'any', 'both', 'each', 'few', 'more', 'most', 'other', 'some', 'such', 'no', 'nor', 'not', 'only', 'own', 'same', 'so', 'than', 'too', 'very', 's', 't', 'can', 'will', 'just', 'don', \"don't\", 'should', \"should've\", 'now', 'd', 'll', 'm', 'o', 're', 've', 'y', 'ain', 'aren', \"aren't\", 'couldn', \"couldn't\", 'didn', \"didn't\", 'doesn', \"doesn't\", 'hadn', \"hadn't\", 'hasn', \"hasn't\", 'haven', \"haven't\", 'isn', \"isn't\", 'ma', 'mightn', \"mightn't\", 'mustn', \"mustn't\", 'needn', \"needn't\", 'shan', \"shan't\", 'shouldn', \"shouldn't\", 'wasn', \"wasn't\", 'weren', \"weren't\", 'won', \"won't\", 'wouldn', \"wouldn't\"]\n"
     ]
    }
   ],
   "source": [
    "# Import the stop word list\n",
    "from nltk.corpus import stopwords \n",
    "print(stopwords.words(\"english\")) "
   ]
  },
  {
   "cell_type": "code",
   "execution_count": 10,
   "id": "5aa7e4a1",
   "metadata": {},
   "outputs": [
    {
     "name": "stdout",
     "output_type": "stream",
     "text": [
      "stuff going moment mj ive started listening music watching odd documentary watched wiz watched moonwalker maybe want get certain insight guy thought really cool eighties maybe make mind whether guilty innocent moonwalker part biography part feature film remember going see cinema originally released subtle messages mjs feeling towards press also obvious message drugs bad mkayvisually impressive course michael jackson unless remotely like mj anyway going hate find boring may call mj egotist consenting making movie mj fans would say made fans true really nice himthe actual feature film bit finally starts 20 minutes excluding smooth criminal sequence joe pesci convincing psychopathic powerful drug lord wants mj dead bad beyond mj overheard plans nah joe pescis character ranted wanted people know supplying drugs etc dunno maybe hates mjs musiclots cool things like mj turning car robot whole speed demon sequence also director must patience saint came filming kiddy bad sequence usually directors hate working one kid let alone whole bunch performing complex dance scenebottom line movie people like mj one level another think people stay away try give wholesome message ironically mjs bestest buddy movie girl michael jackson truly one talented people ever grace planet guilty well attention ive gave subjecthmmm well dont know people different behind closed doors know fact either extremely nice stupid guy one sickest liars hope latter\n"
     ]
    }
   ],
   "source": [
    "from nltk.tokenize import word_tokenize\n",
    "\n",
    "# Load the list of English stop words\n",
    "stop_words = set(stopwords.words('english'))\n",
    "\n",
    "# Define a function to remove stop words from a text\n",
    "def remove_stopwords(text):\n",
    "    # Tokenize the text\n",
    "    tokens = word_tokenize(text)\n",
    "    # Remove stop words\n",
    "    filtered_tokens = [w for w in tokens if not w.lower() in stop_words]\n",
    "    # Join the tokens back into a string\n",
    "    return ' '.join(filtered_tokens)\n",
    "\n",
    "# Apply the function to the review column\n",
    "lbd_train_data['review'] = lbd_train_data['review'].apply(remove_stopwords)\n",
    "\n",
    "print(lbd_train_data['review'][0])"
   ]
  },
  {
   "cell_type": "markdown",
   "id": "d024a5ca",
   "metadata": {},
   "source": [
    "**4) Apply NLTK’s PorterStemmer**"
   ]
  },
  {
   "cell_type": "markdown",
   "id": "29dcd099",
   "metadata": {},
   "source": [
    "***Note*** For my future reference, I am noting that The Porter Stemmer is an algorithm used for stemming, which is the process of reducing words to their word stem or root form. For instance, words like \"running\", \"runner\", and \"ran\" would all be stemmed to \"run\"."
   ]
  },
  {
   "cell_type": "code",
   "execution_count": 11,
   "id": "51c5a0e3",
   "metadata": {},
   "outputs": [
    {
     "name": "stdout",
     "output_type": "stream",
     "text": [
      "stuff go moment mj ive start listen music watch odd documentari watch wiz watch moonwalk mayb want get certain insight guy thought realli cool eighti mayb make mind whether guilti innoc moonwalk part biographi part featur film rememb go see cinema origin releas subtl messag mj feel toward press also obviou messag drug bad mkayvisu impress cours michael jackson unless remot like mj anyway go hate find bore may call mj egotist consent make movi mj fan would say made fan true realli nice himth actual featur film bit final start 20 minut exclud smooth crimin sequenc joe pesci convinc psychopath power drug lord want mj dead bad beyond mj overheard plan nah joe pesci charact rant want peopl know suppli drug etc dunno mayb hate mj musiclot cool thing like mj turn car robot whole speed demon sequenc also director must patienc saint came film kiddi bad sequenc usual director hate work one kid let alon whole bunch perform complex danc scenebottom line movi peopl like mj one level anoth think peopl stay away tri give wholesom messag iron mj bestest buddi movi girl michael jackson truli one talent peopl ever grace planet guilti well attent ive gave subjecthmmm well dont know peopl differ behind close door know fact either extrem nice stupid guy one sickest liar hope latter\n"
     ]
    }
   ],
   "source": [
    "from nltk.stem import PorterStemmer\n",
    "\n",
    "# Create an instance of the PorterStemmer\n",
    "stemmer = PorterStemmer()\n",
    "\n",
    "# Define a function to stem each word in the text\n",
    "def stem_text(text):\n",
    "    # Tokenize the text\n",
    "    tokens = word_tokenize(text)\n",
    "    # Stem each word\n",
    "    stemmed_tokens = [stemmer.stem(word) for word in tokens]\n",
    "    # Join the stemmed words back into a string\n",
    "    return ' '.join(stemmed_tokens)\n",
    "\n",
    "# Apply the function to the review column\n",
    "lbd_train_data['review'] = lbd_train_data['review'].apply(stem_text)\n",
    "\n",
    "print(lbd_train_data['review'][0])"
   ]
  },
  {
   "cell_type": "markdown",
   "id": "8d7a7737",
   "metadata": {},
   "source": [
    "**5) Bag of Words Matrix**"
   ]
  },
  {
   "cell_type": "code",
   "execution_count": 15,
   "id": "ca6bb782",
   "metadata": {},
   "outputs": [],
   "source": [
    "from sklearn.feature_extraction.text import CountVectorizer\n",
    "\n",
    "# Create an instance of CountVectorizer\n",
    "vectorizer = CountVectorizer()\n",
    "\n",
    "# Apply CountVectorizer to the stemmed reviews\n",
    "BoW_matrix = vectorizer.fit_transform(lbd_train_data['review'])\n",
    "\n",
    "# Convert to a dense array or DataFrame for easier viewing\n",
    "BoW_dense = BoW_matrix.toarray()\n",
    "\n",
    "# Convert it to a DataFrame\n",
    "# import pandas as pd\n",
    "BoW_df = pd.DataFrame(BoW_dense, columns=vectorizer.get_feature_names_out())"
   ]
  },
  {
   "cell_type": "code",
   "execution_count": 16,
   "id": "30493185",
   "metadata": {},
   "outputs": [
    {
     "data": {
      "text/plain": [
       "(25000, 113034)"
      ]
     },
     "execution_count": 16,
     "metadata": {},
     "output_type": "execute_result"
    }
   ],
   "source": [
    "# dimensions of the bag of words\n",
    "BoW_df.shape"
   ]
  },
  {
   "cell_type": "markdown",
   "id": "f98bfb68",
   "metadata": {},
   "source": [
    "**6) tf-idf matrix**"
   ]
  },
  {
   "cell_type": "code",
   "execution_count": 17,
   "id": "fa5de80d",
   "metadata": {},
   "outputs": [],
   "source": [
    "from sklearn.feature_extraction.text import TfidfVectorizer\n",
    "\n",
    "# Create an instance of TfidfVectorizer\n",
    "tfidf_vectorizer = TfidfVectorizer()\n",
    "\n",
    "# Apply TfidfVectorizer to the stemmed reviews\n",
    "# Assuming lbd_train_data['review'] contains the stemmed reviews\n",
    "tfidf_matrix = tfidf_vectorizer.fit_transform(lbd_train_data['review'])\n",
    "\n",
    "# Convert to a dense array or DataFrame for easier viewing\n",
    "tfidf_dense = tfidf_matrix.toarray()\n",
    "\n",
    "# Convert it to a DataFrame\n",
    "tfidf_df = pd.DataFrame(tfidf_dense, columns=tfidf_vectorizer.get_feature_names_out())"
   ]
  },
  {
   "cell_type": "code",
   "execution_count": 18,
   "id": "a225212a",
   "metadata": {},
   "outputs": [
    {
     "data": {
      "text/plain": [
       "(25000, 113034)"
      ]
     },
     "execution_count": 18,
     "metadata": {},
     "output_type": "execute_result"
    }
   ],
   "source": [
    "# dimensions of the tfidf data frame\n",
    "tfidf_df.shape"
   ]
  }
 ],
 "metadata": {
  "kernelspec": {
   "display_name": "Python 3 (ipykernel)",
   "language": "python",
   "name": "python3"
  },
  "language_info": {
   "codemirror_mode": {
    "name": "ipython",
    "version": 3
   },
   "file_extension": ".py",
   "mimetype": "text/x-python",
   "name": "python",
   "nbconvert_exporter": "python",
   "pygments_lexer": "ipython3",
   "version": "3.11.4"
  }
 },
 "nbformat": 4,
 "nbformat_minor": 5
}
