{
 "cells": [
  {
   "cell_type": "markdown",
   "id": "bfa049ad",
   "metadata": {},
   "source": [
    "# Week 1 Reading & Exploring Data: Exercise 1.2"
   ]
  },
  {
   "cell_type": "markdown",
   "id": "7596b3a9",
   "metadata": {},
   "source": [
    "## 1) Load the dataset"
   ]
  },
  {
   "cell_type": "markdown",
   "id": "415a6f2e",
   "metadata": {},
   "source": [
    "***Instructions)***\n",
    "\n",
    "Load the dataset as a Pandas data frame."
   ]
  },
  {
   "cell_type": "markdown",
   "id": "b3e177bf",
   "metadata": {},
   "source": [
    "***Answer)***"
   ]
  },
  {
   "cell_type": "code",
   "execution_count": 6,
   "id": "d03ab171",
   "metadata": {},
   "outputs": [
    {
     "data": {
      "text/plain": [
       "<bound method NDFrame.head of                                 Name Platform  Year_of_Release         Genre  \\\n",
       "0                         Wii Sports      Wii           2006.0        Sports   \n",
       "1                  Super Mario Bros.      NES           1985.0      Platform   \n",
       "2                     Mario Kart Wii      Wii           2008.0        Racing   \n",
       "3                  Wii Sports Resort      Wii           2009.0        Sports   \n",
       "4           Pokemon Red/Pokemon Blue       GB           1996.0  Role-Playing   \n",
       "...                              ...      ...              ...           ...   \n",
       "16714  Samurai Warriors: Sanada Maru      PS3           2016.0        Action   \n",
       "16715               LMA Manager 2007     X360           2006.0        Sports   \n",
       "16716        Haitaka no Psychedelica      PSV           2016.0     Adventure   \n",
       "16717               Spirits & Spells      GBA           2003.0      Platform   \n",
       "16718            Winning Post 8 2016      PSV           2016.0    Simulation   \n",
       "\n",
       "          Publisher  NA_Sales  EU_Sales  JP_Sales  Other_Sales  Global_Sales  \\\n",
       "0          Nintendo     41.36     28.96      3.77         8.45         82.53   \n",
       "1          Nintendo     29.08      3.58      6.81         0.77         40.24   \n",
       "2          Nintendo     15.68     12.76      3.79         3.29         35.52   \n",
       "3          Nintendo     15.61     10.93      3.28         2.95         32.77   \n",
       "4          Nintendo     11.27      8.89     10.22         1.00         31.37   \n",
       "...             ...       ...       ...       ...          ...           ...   \n",
       "16714    Tecmo Koei      0.00      0.00      0.01         0.00          0.01   \n",
       "16715   Codemasters      0.00      0.01      0.00         0.00          0.01   \n",
       "16716  Idea Factory      0.00      0.00      0.01         0.00          0.01   \n",
       "16717       Wanadoo      0.01      0.00      0.00         0.00          0.01   \n",
       "16718    Tecmo Koei      0.00      0.00      0.01         0.00          0.01   \n",
       "\n",
       "       Critic_Score  Critic_Count User_Score  User_Count Developer Rating  \n",
       "0              76.0          51.0          8       322.0  Nintendo      E  \n",
       "1               NaN           NaN        NaN         NaN       NaN    NaN  \n",
       "2              82.0          73.0        8.3       709.0  Nintendo      E  \n",
       "3              80.0          73.0          8       192.0  Nintendo      E  \n",
       "4               NaN           NaN        NaN         NaN       NaN    NaN  \n",
       "...             ...           ...        ...         ...       ...    ...  \n",
       "16714           NaN           NaN        NaN         NaN       NaN    NaN  \n",
       "16715           NaN           NaN        NaN         NaN       NaN    NaN  \n",
       "16716           NaN           NaN        NaN         NaN       NaN    NaN  \n",
       "16717           NaN           NaN        NaN         NaN       NaN    NaN  \n",
       "16718           NaN           NaN        NaN         NaN       NaN    NaN  \n",
       "\n",
       "[16719 rows x 16 columns]>"
      ]
     },
     "execution_count": 6,
     "metadata": {},
     "output_type": "execute_result"
    }
   ],
   "source": [
    "import pandas as pd\n",
    "\n",
    "# reading the data\n",
    "df_vgs = pd.read_csv('C:/Users/ivan2/gitLocal/DSC550-WINTER2023/Video_Games_Sales_as_at_22_Dec_2016.csv')\n",
    "df_vgs.head"
   ]
  },
  {
   "cell_type": "code",
   "execution_count": 4,
   "id": "2f035adf",
   "metadata": {},
   "outputs": [
    {
     "name": "stdout",
     "output_type": "stream",
     "text": [
      "Name                object\n",
      "Platform            object\n",
      "Year_of_Release    float64\n",
      "Genre               object\n",
      "Publisher           object\n",
      "NA_Sales           float64\n",
      "EU_Sales           float64\n",
      "JP_Sales           float64\n",
      "Other_Sales        float64\n",
      "Global_Sales       float64\n",
      "Critic_Score       float64\n",
      "Critic_Count       float64\n",
      "User_Score          object\n",
      "User_Count         float64\n",
      "Developer           object\n",
      "Rating              object\n",
      "dtype: object\n"
     ]
    }
   ],
   "source": [
    "data_types = df_vgs.dtypes\n",
    "\n",
    "print(data_types)"
   ]
  },
  {
   "cell_type": "markdown",
   "id": "4bac24a7",
   "metadata": {},
   "source": [
    "## 2) Display 10 Rows"
   ]
  },
  {
   "cell_type": "markdown",
   "id": "5d15a72a",
   "metadata": {},
   "source": [
    "***Instructions)***\n",
    "\n",
    "Display the first ten rows of data."
   ]
  },
  {
   "cell_type": "markdown",
   "id": "33d8529a",
   "metadata": {},
   "source": [
    "***Answer)***"
   ]
  },
  {
   "cell_type": "code",
   "execution_count": 7,
   "id": "7ac035aa",
   "metadata": {},
   "outputs": [
    {
     "data": {
      "text/html": [
       "<div>\n",
       "<style scoped>\n",
       "    .dataframe tbody tr th:only-of-type {\n",
       "        vertical-align: middle;\n",
       "    }\n",
       "\n",
       "    .dataframe tbody tr th {\n",
       "        vertical-align: top;\n",
       "    }\n",
       "\n",
       "    .dataframe thead th {\n",
       "        text-align: right;\n",
       "    }\n",
       "</style>\n",
       "<table border=\"1\" class=\"dataframe\">\n",
       "  <thead>\n",
       "    <tr style=\"text-align: right;\">\n",
       "      <th></th>\n",
       "      <th>Name</th>\n",
       "      <th>Platform</th>\n",
       "      <th>Year_of_Release</th>\n",
       "      <th>Genre</th>\n",
       "      <th>Publisher</th>\n",
       "      <th>NA_Sales</th>\n",
       "      <th>EU_Sales</th>\n",
       "      <th>JP_Sales</th>\n",
       "      <th>Other_Sales</th>\n",
       "      <th>Global_Sales</th>\n",
       "      <th>Critic_Score</th>\n",
       "      <th>Critic_Count</th>\n",
       "      <th>User_Score</th>\n",
       "      <th>User_Count</th>\n",
       "      <th>Developer</th>\n",
       "      <th>Rating</th>\n",
       "    </tr>\n",
       "  </thead>\n",
       "  <tbody>\n",
       "    <tr>\n",
       "      <th>0</th>\n",
       "      <td>Wii Sports</td>\n",
       "      <td>Wii</td>\n",
       "      <td>2006.0</td>\n",
       "      <td>Sports</td>\n",
       "      <td>Nintendo</td>\n",
       "      <td>41.36</td>\n",
       "      <td>28.96</td>\n",
       "      <td>3.77</td>\n",
       "      <td>8.45</td>\n",
       "      <td>82.53</td>\n",
       "      <td>76.0</td>\n",
       "      <td>51.0</td>\n",
       "      <td>8</td>\n",
       "      <td>322.0</td>\n",
       "      <td>Nintendo</td>\n",
       "      <td>E</td>\n",
       "    </tr>\n",
       "    <tr>\n",
       "      <th>1</th>\n",
       "      <td>Super Mario Bros.</td>\n",
       "      <td>NES</td>\n",
       "      <td>1985.0</td>\n",
       "      <td>Platform</td>\n",
       "      <td>Nintendo</td>\n",
       "      <td>29.08</td>\n",
       "      <td>3.58</td>\n",
       "      <td>6.81</td>\n",
       "      <td>0.77</td>\n",
       "      <td>40.24</td>\n",
       "      <td>NaN</td>\n",
       "      <td>NaN</td>\n",
       "      <td>NaN</td>\n",
       "      <td>NaN</td>\n",
       "      <td>NaN</td>\n",
       "      <td>NaN</td>\n",
       "    </tr>\n",
       "    <tr>\n",
       "      <th>2</th>\n",
       "      <td>Mario Kart Wii</td>\n",
       "      <td>Wii</td>\n",
       "      <td>2008.0</td>\n",
       "      <td>Racing</td>\n",
       "      <td>Nintendo</td>\n",
       "      <td>15.68</td>\n",
       "      <td>12.76</td>\n",
       "      <td>3.79</td>\n",
       "      <td>3.29</td>\n",
       "      <td>35.52</td>\n",
       "      <td>82.0</td>\n",
       "      <td>73.0</td>\n",
       "      <td>8.3</td>\n",
       "      <td>709.0</td>\n",
       "      <td>Nintendo</td>\n",
       "      <td>E</td>\n",
       "    </tr>\n",
       "    <tr>\n",
       "      <th>3</th>\n",
       "      <td>Wii Sports Resort</td>\n",
       "      <td>Wii</td>\n",
       "      <td>2009.0</td>\n",
       "      <td>Sports</td>\n",
       "      <td>Nintendo</td>\n",
       "      <td>15.61</td>\n",
       "      <td>10.93</td>\n",
       "      <td>3.28</td>\n",
       "      <td>2.95</td>\n",
       "      <td>32.77</td>\n",
       "      <td>80.0</td>\n",
       "      <td>73.0</td>\n",
       "      <td>8</td>\n",
       "      <td>192.0</td>\n",
       "      <td>Nintendo</td>\n",
       "      <td>E</td>\n",
       "    </tr>\n",
       "    <tr>\n",
       "      <th>4</th>\n",
       "      <td>Pokemon Red/Pokemon Blue</td>\n",
       "      <td>GB</td>\n",
       "      <td>1996.0</td>\n",
       "      <td>Role-Playing</td>\n",
       "      <td>Nintendo</td>\n",
       "      <td>11.27</td>\n",
       "      <td>8.89</td>\n",
       "      <td>10.22</td>\n",
       "      <td>1.00</td>\n",
       "      <td>31.37</td>\n",
       "      <td>NaN</td>\n",
       "      <td>NaN</td>\n",
       "      <td>NaN</td>\n",
       "      <td>NaN</td>\n",
       "      <td>NaN</td>\n",
       "      <td>NaN</td>\n",
       "    </tr>\n",
       "    <tr>\n",
       "      <th>5</th>\n",
       "      <td>Tetris</td>\n",
       "      <td>GB</td>\n",
       "      <td>1989.0</td>\n",
       "      <td>Puzzle</td>\n",
       "      <td>Nintendo</td>\n",
       "      <td>23.20</td>\n",
       "      <td>2.26</td>\n",
       "      <td>4.22</td>\n",
       "      <td>0.58</td>\n",
       "      <td>30.26</td>\n",
       "      <td>NaN</td>\n",
       "      <td>NaN</td>\n",
       "      <td>NaN</td>\n",
       "      <td>NaN</td>\n",
       "      <td>NaN</td>\n",
       "      <td>NaN</td>\n",
       "    </tr>\n",
       "    <tr>\n",
       "      <th>6</th>\n",
       "      <td>New Super Mario Bros.</td>\n",
       "      <td>DS</td>\n",
       "      <td>2006.0</td>\n",
       "      <td>Platform</td>\n",
       "      <td>Nintendo</td>\n",
       "      <td>11.28</td>\n",
       "      <td>9.14</td>\n",
       "      <td>6.50</td>\n",
       "      <td>2.88</td>\n",
       "      <td>29.80</td>\n",
       "      <td>89.0</td>\n",
       "      <td>65.0</td>\n",
       "      <td>8.5</td>\n",
       "      <td>431.0</td>\n",
       "      <td>Nintendo</td>\n",
       "      <td>E</td>\n",
       "    </tr>\n",
       "    <tr>\n",
       "      <th>7</th>\n",
       "      <td>Wii Play</td>\n",
       "      <td>Wii</td>\n",
       "      <td>2006.0</td>\n",
       "      <td>Misc</td>\n",
       "      <td>Nintendo</td>\n",
       "      <td>13.96</td>\n",
       "      <td>9.18</td>\n",
       "      <td>2.93</td>\n",
       "      <td>2.84</td>\n",
       "      <td>28.92</td>\n",
       "      <td>58.0</td>\n",
       "      <td>41.0</td>\n",
       "      <td>6.6</td>\n",
       "      <td>129.0</td>\n",
       "      <td>Nintendo</td>\n",
       "      <td>E</td>\n",
       "    </tr>\n",
       "    <tr>\n",
       "      <th>8</th>\n",
       "      <td>New Super Mario Bros. Wii</td>\n",
       "      <td>Wii</td>\n",
       "      <td>2009.0</td>\n",
       "      <td>Platform</td>\n",
       "      <td>Nintendo</td>\n",
       "      <td>14.44</td>\n",
       "      <td>6.94</td>\n",
       "      <td>4.70</td>\n",
       "      <td>2.24</td>\n",
       "      <td>28.32</td>\n",
       "      <td>87.0</td>\n",
       "      <td>80.0</td>\n",
       "      <td>8.4</td>\n",
       "      <td>594.0</td>\n",
       "      <td>Nintendo</td>\n",
       "      <td>E</td>\n",
       "    </tr>\n",
       "    <tr>\n",
       "      <th>9</th>\n",
       "      <td>Duck Hunt</td>\n",
       "      <td>NES</td>\n",
       "      <td>1984.0</td>\n",
       "      <td>Shooter</td>\n",
       "      <td>Nintendo</td>\n",
       "      <td>26.93</td>\n",
       "      <td>0.63</td>\n",
       "      <td>0.28</td>\n",
       "      <td>0.47</td>\n",
       "      <td>28.31</td>\n",
       "      <td>NaN</td>\n",
       "      <td>NaN</td>\n",
       "      <td>NaN</td>\n",
       "      <td>NaN</td>\n",
       "      <td>NaN</td>\n",
       "      <td>NaN</td>\n",
       "    </tr>\n",
       "  </tbody>\n",
       "</table>\n",
       "</div>"
      ],
      "text/plain": [
       "                        Name Platform  Year_of_Release         Genre  \\\n",
       "0                 Wii Sports      Wii           2006.0        Sports   \n",
       "1          Super Mario Bros.      NES           1985.0      Platform   \n",
       "2             Mario Kart Wii      Wii           2008.0        Racing   \n",
       "3          Wii Sports Resort      Wii           2009.0        Sports   \n",
       "4   Pokemon Red/Pokemon Blue       GB           1996.0  Role-Playing   \n",
       "5                     Tetris       GB           1989.0        Puzzle   \n",
       "6      New Super Mario Bros.       DS           2006.0      Platform   \n",
       "7                   Wii Play      Wii           2006.0          Misc   \n",
       "8  New Super Mario Bros. Wii      Wii           2009.0      Platform   \n",
       "9                  Duck Hunt      NES           1984.0       Shooter   \n",
       "\n",
       "  Publisher  NA_Sales  EU_Sales  JP_Sales  Other_Sales  Global_Sales  \\\n",
       "0  Nintendo     41.36     28.96      3.77         8.45         82.53   \n",
       "1  Nintendo     29.08      3.58      6.81         0.77         40.24   \n",
       "2  Nintendo     15.68     12.76      3.79         3.29         35.52   \n",
       "3  Nintendo     15.61     10.93      3.28         2.95         32.77   \n",
       "4  Nintendo     11.27      8.89     10.22         1.00         31.37   \n",
       "5  Nintendo     23.20      2.26      4.22         0.58         30.26   \n",
       "6  Nintendo     11.28      9.14      6.50         2.88         29.80   \n",
       "7  Nintendo     13.96      9.18      2.93         2.84         28.92   \n",
       "8  Nintendo     14.44      6.94      4.70         2.24         28.32   \n",
       "9  Nintendo     26.93      0.63      0.28         0.47         28.31   \n",
       "\n",
       "   Critic_Score  Critic_Count User_Score  User_Count Developer Rating  \n",
       "0          76.0          51.0          8       322.0  Nintendo      E  \n",
       "1           NaN           NaN        NaN         NaN       NaN    NaN  \n",
       "2          82.0          73.0        8.3       709.0  Nintendo      E  \n",
       "3          80.0          73.0          8       192.0  Nintendo      E  \n",
       "4           NaN           NaN        NaN         NaN       NaN    NaN  \n",
       "5           NaN           NaN        NaN         NaN       NaN    NaN  \n",
       "6          89.0          65.0        8.5       431.0  Nintendo      E  \n",
       "7          58.0          41.0        6.6       129.0  Nintendo      E  \n",
       "8          87.0          80.0        8.4       594.0  Nintendo      E  \n",
       "9           NaN           NaN        NaN         NaN       NaN    NaN  "
      ]
     },
     "execution_count": 7,
     "metadata": {},
     "output_type": "execute_result"
    }
   ],
   "source": [
    "df_vgs.head(10)"
   ]
  },
  {
   "cell_type": "markdown",
   "id": "5a1ff3c3",
   "metadata": {},
   "source": [
    "## 3) Data Frame Dimensions"
   ]
  },
  {
   "cell_type": "markdown",
   "id": "49e56b1d",
   "metadata": {},
   "source": [
    "***Instructions)***\n",
    "\n",
    "Find the dimensions (number of rows and columns) in the data frame. What do these two numbers represent in the context of the data?"
   ]
  },
  {
   "cell_type": "markdown",
   "id": "f306f6b0",
   "metadata": {},
   "source": [
    "***Answer)***"
   ]
  },
  {
   "cell_type": "code",
   "execution_count": 38,
   "id": "df9e35ec",
   "metadata": {},
   "outputs": [
    {
     "data": {
      "text/plain": [
       "(16719, 17)"
      ]
     },
     "execution_count": 38,
     "metadata": {},
     "output_type": "execute_result"
    }
   ],
   "source": [
    "dimensions = df_vgs.shape\n",
    "dimensions"
   ]
  },
  {
   "cell_type": "markdown",
   "id": "0bd10047",
   "metadata": {},
   "source": [
    "The code above provides the dimensions for the data frame. There are 16,719 rows and 16 columns in the data frame. **Note:** After conducting step 8, there will be 17 columns in the data frame."
   ]
  },
  {
   "cell_type": "markdown",
   "id": "51729934",
   "metadata": {},
   "source": [
    "## 4) Top 5 Critic Games"
   ]
  },
  {
   "cell_type": "markdown",
   "id": "2411c93a",
   "metadata": {},
   "source": [
    "***Instructions)***\n",
    "\n",
    "Find the top five games by critic score."
   ]
  },
  {
   "cell_type": "markdown",
   "id": "6dc54179",
   "metadata": {},
   "source": [
    "***Answer)***"
   ]
  },
  {
   "cell_type": "code",
   "execution_count": 39,
   "id": "186a6bd5",
   "metadata": {},
   "outputs": [
    {
     "data": {
      "text/html": [
       "<div>\n",
       "<style scoped>\n",
       "    .dataframe tbody tr th:only-of-type {\n",
       "        vertical-align: middle;\n",
       "    }\n",
       "\n",
       "    .dataframe tbody tr th {\n",
       "        vertical-align: top;\n",
       "    }\n",
       "\n",
       "    .dataframe thead th {\n",
       "        text-align: right;\n",
       "    }\n",
       "</style>\n",
       "<table border=\"1\" class=\"dataframe\">\n",
       "  <thead>\n",
       "    <tr style=\"text-align: right;\">\n",
       "      <th></th>\n",
       "      <th>Name</th>\n",
       "      <th>Critic_Score</th>\n",
       "      <th>Platform</th>\n",
       "    </tr>\n",
       "  </thead>\n",
       "  <tbody>\n",
       "    <tr>\n",
       "      <th>227</th>\n",
       "      <td>Tony Hawk's Pro Skater 2</td>\n",
       "      <td>98.0</td>\n",
       "      <td>PS</td>\n",
       "    </tr>\n",
       "    <tr>\n",
       "      <th>57</th>\n",
       "      <td>Grand Theft Auto IV</td>\n",
       "      <td>98.0</td>\n",
       "      <td>PS3</td>\n",
       "    </tr>\n",
       "    <tr>\n",
       "      <th>51</th>\n",
       "      <td>Grand Theft Auto IV</td>\n",
       "      <td>98.0</td>\n",
       "      <td>X360</td>\n",
       "    </tr>\n",
       "    <tr>\n",
       "      <th>5350</th>\n",
       "      <td>SoulCalibur</td>\n",
       "      <td>98.0</td>\n",
       "      <td>DC</td>\n",
       "    </tr>\n",
       "    <tr>\n",
       "      <th>165</th>\n",
       "      <td>Grand Theft Auto V</td>\n",
       "      <td>97.0</td>\n",
       "      <td>XOne</td>\n",
       "    </tr>\n",
       "  </tbody>\n",
       "</table>\n",
       "</div>"
      ],
      "text/plain": [
       "                          Name  Critic_Score Platform\n",
       "227   Tony Hawk's Pro Skater 2          98.0       PS\n",
       "57         Grand Theft Auto IV          98.0      PS3\n",
       "51         Grand Theft Auto IV          98.0     X360\n",
       "5350               SoulCalibur          98.0       DC\n",
       "165         Grand Theft Auto V          97.0     XOne"
      ]
     },
     "execution_count": 39,
     "metadata": {},
     "output_type": "execute_result"
    }
   ],
   "source": [
    "# Sorting the DataFrame by Critic_Score in descending order and showing the top 5 entries\n",
    "top_five_games_by_critic_score = df_vgs.sort_values(by='Critic_Score', ascending=False).head(5)\n",
    "top_five_games_by_critic_score[['Name', 'Critic_Score', 'Platform']]"
   ]
  },
  {
   "cell_type": "markdown",
   "id": "77a41a6c",
   "metadata": {},
   "source": [
    "## 5) Video Game Counts per Genre"
   ]
  },
  {
   "cell_type": "markdown",
   "id": "16e28a76",
   "metadata": {},
   "source": [
    "***Instructions)***\n",
    "\n",
    "Find the number of video games in the data frame in each genre."
   ]
  },
  {
   "cell_type": "markdown",
   "id": "f865ac9c",
   "metadata": {},
   "source": [
    "***Answer)***"
   ]
  },
  {
   "cell_type": "code",
   "execution_count": 13,
   "id": "e14d2c74",
   "metadata": {},
   "outputs": [
    {
     "data": {
      "text/plain": [
       "Action          3370\n",
       "Sports          2348\n",
       "Misc            1750\n",
       "Role-Playing    1500\n",
       "Shooter         1323\n",
       "Adventure       1303\n",
       "Racing          1249\n",
       "Platform         888\n",
       "Simulation       874\n",
       "Fighting         849\n",
       "Strategy         683\n",
       "Puzzle           580\n",
       "Name: Genre, dtype: int64"
      ]
     },
     "execution_count": 13,
     "metadata": {},
     "output_type": "execute_result"
    }
   ],
   "source": [
    "# Counting the number of video games in each genre\n",
    "genre_counts = df_vgs['Genre'].value_counts()\n",
    "genre_counts"
   ]
  },
  {
   "cell_type": "markdown",
   "id": "778cedcf",
   "metadata": {},
   "source": [
    "## 6) First 5 SNES Games"
   ]
  },
  {
   "cell_type": "markdown",
   "id": "f7526cd5",
   "metadata": {},
   "source": [
    "***Instructions)***\n",
    "\n",
    "Find the first five games in the data frame on the SNES platform."
   ]
  },
  {
   "cell_type": "markdown",
   "id": "c37f7a94",
   "metadata": {},
   "source": [
    "***Answer)***"
   ]
  },
  {
   "cell_type": "markdown",
   "id": "44ac1438",
   "metadata": {},
   "source": [
    "This questions is a little vague and not clear if \"first five games\" refers to year of release, by Row ID, or by another variablee.\n",
    "\n",
    "Below are two code chunks, each looking at different interpretations of this quesiton:\n",
    "- The first code cunk looks at the first 5 entries of SNES games by Row ID.\n",
    "- The second code chunk looks at the fist 5 entries of SNES games based on Year of Release"
   ]
  },
  {
   "cell_type": "code",
   "execution_count": 14,
   "id": "84e19f75",
   "metadata": {},
   "outputs": [
    {
     "data": {
      "text/html": [
       "<div>\n",
       "<style scoped>\n",
       "    .dataframe tbody tr th:only-of-type {\n",
       "        vertical-align: middle;\n",
       "    }\n",
       "\n",
       "    .dataframe tbody tr th {\n",
       "        vertical-align: top;\n",
       "    }\n",
       "\n",
       "    .dataframe thead th {\n",
       "        text-align: right;\n",
       "    }\n",
       "</style>\n",
       "<table border=\"1\" class=\"dataframe\">\n",
       "  <thead>\n",
       "    <tr style=\"text-align: right;\">\n",
       "      <th></th>\n",
       "      <th>Name</th>\n",
       "      <th>Platform</th>\n",
       "      <th>Year_of_Release</th>\n",
       "      <th>Genre</th>\n",
       "      <th>Publisher</th>\n",
       "      <th>NA_Sales</th>\n",
       "      <th>EU_Sales</th>\n",
       "      <th>JP_Sales</th>\n",
       "      <th>Other_Sales</th>\n",
       "      <th>Global_Sales</th>\n",
       "      <th>Critic_Score</th>\n",
       "      <th>Critic_Count</th>\n",
       "      <th>User_Score</th>\n",
       "      <th>User_Count</th>\n",
       "      <th>Developer</th>\n",
       "      <th>Rating</th>\n",
       "    </tr>\n",
       "  </thead>\n",
       "  <tbody>\n",
       "    <tr>\n",
       "      <th>18</th>\n",
       "      <td>Super Mario World</td>\n",
       "      <td>SNES</td>\n",
       "      <td>1990.0</td>\n",
       "      <td>Platform</td>\n",
       "      <td>Nintendo</td>\n",
       "      <td>12.78</td>\n",
       "      <td>3.75</td>\n",
       "      <td>3.54</td>\n",
       "      <td>0.55</td>\n",
       "      <td>20.61</td>\n",
       "      <td>NaN</td>\n",
       "      <td>NaN</td>\n",
       "      <td>NaN</td>\n",
       "      <td>NaN</td>\n",
       "      <td>NaN</td>\n",
       "      <td>NaN</td>\n",
       "    </tr>\n",
       "    <tr>\n",
       "      <th>56</th>\n",
       "      <td>Super Mario All-Stars</td>\n",
       "      <td>SNES</td>\n",
       "      <td>1993.0</td>\n",
       "      <td>Platform</td>\n",
       "      <td>Nintendo</td>\n",
       "      <td>5.99</td>\n",
       "      <td>2.15</td>\n",
       "      <td>2.12</td>\n",
       "      <td>0.29</td>\n",
       "      <td>10.55</td>\n",
       "      <td>NaN</td>\n",
       "      <td>NaN</td>\n",
       "      <td>NaN</td>\n",
       "      <td>NaN</td>\n",
       "      <td>NaN</td>\n",
       "      <td>NaN</td>\n",
       "    </tr>\n",
       "    <tr>\n",
       "      <th>71</th>\n",
       "      <td>Donkey Kong Country</td>\n",
       "      <td>SNES</td>\n",
       "      <td>1994.0</td>\n",
       "      <td>Platform</td>\n",
       "      <td>Nintendo</td>\n",
       "      <td>4.36</td>\n",
       "      <td>1.71</td>\n",
       "      <td>3.00</td>\n",
       "      <td>0.23</td>\n",
       "      <td>9.30</td>\n",
       "      <td>NaN</td>\n",
       "      <td>NaN</td>\n",
       "      <td>NaN</td>\n",
       "      <td>NaN</td>\n",
       "      <td>NaN</td>\n",
       "      <td>NaN</td>\n",
       "    </tr>\n",
       "    <tr>\n",
       "      <th>76</th>\n",
       "      <td>Super Mario Kart</td>\n",
       "      <td>SNES</td>\n",
       "      <td>1992.0</td>\n",
       "      <td>Racing</td>\n",
       "      <td>Nintendo</td>\n",
       "      <td>3.54</td>\n",
       "      <td>1.24</td>\n",
       "      <td>3.81</td>\n",
       "      <td>0.18</td>\n",
       "      <td>8.76</td>\n",
       "      <td>NaN</td>\n",
       "      <td>NaN</td>\n",
       "      <td>NaN</td>\n",
       "      <td>NaN</td>\n",
       "      <td>NaN</td>\n",
       "      <td>NaN</td>\n",
       "    </tr>\n",
       "    <tr>\n",
       "      <th>137</th>\n",
       "      <td>Street Fighter II: The World Warrior</td>\n",
       "      <td>SNES</td>\n",
       "      <td>1992.0</td>\n",
       "      <td>Fighting</td>\n",
       "      <td>Capcom</td>\n",
       "      <td>2.47</td>\n",
       "      <td>0.83</td>\n",
       "      <td>2.87</td>\n",
       "      <td>0.12</td>\n",
       "      <td>6.30</td>\n",
       "      <td>NaN</td>\n",
       "      <td>NaN</td>\n",
       "      <td>NaN</td>\n",
       "      <td>NaN</td>\n",
       "      <td>NaN</td>\n",
       "      <td>NaN</td>\n",
       "    </tr>\n",
       "  </tbody>\n",
       "</table>\n",
       "</div>"
      ],
      "text/plain": [
       "                                     Name Platform  Year_of_Release     Genre  \\\n",
       "18                      Super Mario World     SNES           1990.0  Platform   \n",
       "56                  Super Mario All-Stars     SNES           1993.0  Platform   \n",
       "71                    Donkey Kong Country     SNES           1994.0  Platform   \n",
       "76                       Super Mario Kart     SNES           1992.0    Racing   \n",
       "137  Street Fighter II: The World Warrior     SNES           1992.0  Fighting   \n",
       "\n",
       "    Publisher  NA_Sales  EU_Sales  JP_Sales  Other_Sales  Global_Sales  \\\n",
       "18   Nintendo     12.78      3.75      3.54         0.55         20.61   \n",
       "56   Nintendo      5.99      2.15      2.12         0.29         10.55   \n",
       "71   Nintendo      4.36      1.71      3.00         0.23          9.30   \n",
       "76   Nintendo      3.54      1.24      3.81         0.18          8.76   \n",
       "137    Capcom      2.47      0.83      2.87         0.12          6.30   \n",
       "\n",
       "     Critic_Score  Critic_Count User_Score  User_Count Developer Rating  \n",
       "18            NaN           NaN        NaN         NaN       NaN    NaN  \n",
       "56            NaN           NaN        NaN         NaN       NaN    NaN  \n",
       "71            NaN           NaN        NaN         NaN       NaN    NaN  \n",
       "76            NaN           NaN        NaN         NaN       NaN    NaN  \n",
       "137           NaN           NaN        NaN         NaN       NaN    NaN  "
      ]
     },
     "execution_count": 14,
     "metadata": {},
     "output_type": "execute_result"
    }
   ],
   "source": [
    "# Filtering the DataFrame for to only the SNES platform and selecting the first five entries based on Row ID\n",
    "snes_games = df_vgs[df_vgs['Platform'] == 'SNES'].head(5)\n",
    "snes_games"
   ]
  },
  {
   "cell_type": "code",
   "execution_count": 16,
   "id": "0ee2434a",
   "metadata": {},
   "outputs": [
    {
     "data": {
      "text/html": [
       "<div>\n",
       "<style scoped>\n",
       "    .dataframe tbody tr th:only-of-type {\n",
       "        vertical-align: middle;\n",
       "    }\n",
       "\n",
       "    .dataframe tbody tr th {\n",
       "        vertical-align: top;\n",
       "    }\n",
       "\n",
       "    .dataframe thead th {\n",
       "        text-align: right;\n",
       "    }\n",
       "</style>\n",
       "<table border=\"1\" class=\"dataframe\">\n",
       "  <thead>\n",
       "    <tr style=\"text-align: right;\">\n",
       "      <th></th>\n",
       "      <th>Name</th>\n",
       "      <th>Platform</th>\n",
       "      <th>Year_of_Release</th>\n",
       "      <th>Genre</th>\n",
       "      <th>Publisher</th>\n",
       "      <th>NA_Sales</th>\n",
       "      <th>EU_Sales</th>\n",
       "      <th>JP_Sales</th>\n",
       "      <th>Other_Sales</th>\n",
       "      <th>Global_Sales</th>\n",
       "      <th>Critic_Score</th>\n",
       "      <th>Critic_Count</th>\n",
       "      <th>User_Score</th>\n",
       "      <th>User_Count</th>\n",
       "      <th>Developer</th>\n",
       "      <th>Rating</th>\n",
       "    </tr>\n",
       "  </thead>\n",
       "  <tbody>\n",
       "    <tr>\n",
       "      <th>18</th>\n",
       "      <td>Super Mario World</td>\n",
       "      <td>SNES</td>\n",
       "      <td>1990.0</td>\n",
       "      <td>Platform</td>\n",
       "      <td>Nintendo</td>\n",
       "      <td>12.78</td>\n",
       "      <td>3.75</td>\n",
       "      <td>3.54</td>\n",
       "      <td>0.55</td>\n",
       "      <td>20.61</td>\n",
       "      <td>NaN</td>\n",
       "      <td>NaN</td>\n",
       "      <td>NaN</td>\n",
       "      <td>NaN</td>\n",
       "      <td>NaN</td>\n",
       "      <td>NaN</td>\n",
       "    </tr>\n",
       "    <tr>\n",
       "      <th>1195</th>\n",
       "      <td>Final Fight</td>\n",
       "      <td>SNES</td>\n",
       "      <td>1990.0</td>\n",
       "      <td>Action</td>\n",
       "      <td>Capcom</td>\n",
       "      <td>0.67</td>\n",
       "      <td>0.17</td>\n",
       "      <td>0.69</td>\n",
       "      <td>0.03</td>\n",
       "      <td>1.56</td>\n",
       "      <td>NaN</td>\n",
       "      <td>NaN</td>\n",
       "      <td>NaN</td>\n",
       "      <td>NaN</td>\n",
       "      <td>NaN</td>\n",
       "      <td>NaN</td>\n",
       "    </tr>\n",
       "    <tr>\n",
       "      <th>511</th>\n",
       "      <td>F-Zero</td>\n",
       "      <td>SNES</td>\n",
       "      <td>1990.0</td>\n",
       "      <td>Racing</td>\n",
       "      <td>Nintendo</td>\n",
       "      <td>1.37</td>\n",
       "      <td>0.51</td>\n",
       "      <td>0.89</td>\n",
       "      <td>0.07</td>\n",
       "      <td>2.85</td>\n",
       "      <td>NaN</td>\n",
       "      <td>NaN</td>\n",
       "      <td>NaN</td>\n",
       "      <td>NaN</td>\n",
       "      <td>NaN</td>\n",
       "      <td>NaN</td>\n",
       "    </tr>\n",
       "    <tr>\n",
       "      <th>1791</th>\n",
       "      <td>Pilotwings</td>\n",
       "      <td>SNES</td>\n",
       "      <td>1990.0</td>\n",
       "      <td>Simulation</td>\n",
       "      <td>Nintendo</td>\n",
       "      <td>0.46</td>\n",
       "      <td>0.17</td>\n",
       "      <td>0.48</td>\n",
       "      <td>0.02</td>\n",
       "      <td>1.14</td>\n",
       "      <td>NaN</td>\n",
       "      <td>NaN</td>\n",
       "      <td>NaN</td>\n",
       "      <td>NaN</td>\n",
       "      <td>NaN</td>\n",
       "      <td>NaN</td>\n",
       "    </tr>\n",
       "    <tr>\n",
       "      <th>1111</th>\n",
       "      <td>Super Scope 6</td>\n",
       "      <td>SNES</td>\n",
       "      <td>1991.0</td>\n",
       "      <td>Shooter</td>\n",
       "      <td>Nintendo</td>\n",
       "      <td>1.06</td>\n",
       "      <td>0.38</td>\n",
       "      <td>0.15</td>\n",
       "      <td>0.05</td>\n",
       "      <td>1.65</td>\n",
       "      <td>NaN</td>\n",
       "      <td>NaN</td>\n",
       "      <td>NaN</td>\n",
       "      <td>NaN</td>\n",
       "      <td>NaN</td>\n",
       "      <td>NaN</td>\n",
       "    </tr>\n",
       "  </tbody>\n",
       "</table>\n",
       "</div>"
      ],
      "text/plain": [
       "                   Name Platform  Year_of_Release       Genre Publisher  \\\n",
       "18    Super Mario World     SNES           1990.0    Platform  Nintendo   \n",
       "1195        Final Fight     SNES           1990.0      Action    Capcom   \n",
       "511              F-Zero     SNES           1990.0      Racing  Nintendo   \n",
       "1791         Pilotwings     SNES           1990.0  Simulation  Nintendo   \n",
       "1111      Super Scope 6     SNES           1991.0     Shooter  Nintendo   \n",
       "\n",
       "      NA_Sales  EU_Sales  JP_Sales  Other_Sales  Global_Sales  Critic_Score  \\\n",
       "18       12.78      3.75      3.54         0.55         20.61           NaN   \n",
       "1195      0.67      0.17      0.69         0.03          1.56           NaN   \n",
       "511       1.37      0.51      0.89         0.07          2.85           NaN   \n",
       "1791      0.46      0.17      0.48         0.02          1.14           NaN   \n",
       "1111      1.06      0.38      0.15         0.05          1.65           NaN   \n",
       "\n",
       "      Critic_Count User_Score  User_Count Developer Rating  \n",
       "18             NaN        NaN         NaN       NaN    NaN  \n",
       "1195           NaN        NaN         NaN       NaN    NaN  \n",
       "511            NaN        NaN         NaN       NaN    NaN  \n",
       "1791           NaN        NaN         NaN       NaN    NaN  \n",
       "1111           NaN        NaN         NaN       NaN    NaN  "
      ]
     },
     "execution_count": 16,
     "metadata": {},
     "output_type": "execute_result"
    }
   ],
   "source": [
    "# Filtering the DataFrame for to only the SNES platform then sorting by 'Year_of_Release' from oldest to newest\n",
    "snes_games_sorted = df_vgs[df_vgs['Platform'] == 'SNES'].sort_values(by='Year_of_Release').head(5)\n",
    "snes_games_sorted"
   ]
  },
  {
   "cell_type": "markdown",
   "id": "0b2e27c9",
   "metadata": {},
   "source": [
    "## 7) Top 5 Publishers with Total Global Sales"
   ]
  },
  {
   "cell_type": "markdown",
   "id": "60358e1e",
   "metadata": {},
   "source": [
    "***Instructions)***\n",
    "\n",
    "Find the five publishers with the highest total global sales. **Note:** You will need to calculate the total global sales for each publisher to do this."
   ]
  },
  {
   "cell_type": "markdown",
   "id": "3be5008e",
   "metadata": {},
   "source": [
    "***Answer)***"
   ]
  },
  {
   "cell_type": "code",
   "execution_count": 22,
   "id": "d14b89f1",
   "metadata": {},
   "outputs": [
    {
     "data": {
      "text/plain": [
       "Publisher\n",
       "Nintendo                       1788.81\n",
       "Electronic Arts                1116.96\n",
       "Activision                      731.16\n",
       "Sony Computer Entertainment     606.48\n",
       "Ubisoft                         471.61\n",
       "Name: Global_Sales, dtype: float64"
      ]
     },
     "execution_count": 22,
     "metadata": {},
     "output_type": "execute_result"
    }
   ],
   "source": [
    "# Grouping each publisher and summing Global Sales, then selecting the top 5\n",
    "top_publishers_by_global_sales = df_vgs.groupby('Publisher')['Global_Sales'].sum().sort_values(ascending=False).head(5)\n",
    "top_publishers_by_global_sales"
   ]
  },
  {
   "cell_type": "markdown",
   "id": "6feb8e5e",
   "metadata": {},
   "source": [
    "## 8) Creating a new calculated field (Column)"
   ]
  },
  {
   "cell_type": "markdown",
   "id": "08192323",
   "metadata": {},
   "source": [
    "***Instructions)***\n",
    "\n",
    "Create a new column in the data frame that calculates the percentage of global sales from North America. Display the first five rows of the new data frame."
   ]
  },
  {
   "cell_type": "markdown",
   "id": "9cf892eb",
   "metadata": {},
   "source": [
    "***Answer)***"
   ]
  },
  {
   "cell_type": "code",
   "execution_count": 24,
   "id": "dbaee4a5",
   "metadata": {},
   "outputs": [
    {
     "data": {
      "text/html": [
       "<div>\n",
       "<style scoped>\n",
       "    .dataframe tbody tr th:only-of-type {\n",
       "        vertical-align: middle;\n",
       "    }\n",
       "\n",
       "    .dataframe tbody tr th {\n",
       "        vertical-align: top;\n",
       "    }\n",
       "\n",
       "    .dataframe thead th {\n",
       "        text-align: right;\n",
       "    }\n",
       "</style>\n",
       "<table border=\"1\" class=\"dataframe\">\n",
       "  <thead>\n",
       "    <tr style=\"text-align: right;\">\n",
       "      <th></th>\n",
       "      <th>Name</th>\n",
       "      <th>NA_Sales</th>\n",
       "      <th>Global_Sales</th>\n",
       "      <th>NA_Sales_Percentage</th>\n",
       "    </tr>\n",
       "  </thead>\n",
       "  <tbody>\n",
       "    <tr>\n",
       "      <th>0</th>\n",
       "      <td>Wii Sports</td>\n",
       "      <td>41.36</td>\n",
       "      <td>82.53</td>\n",
       "      <td>50.115110</td>\n",
       "    </tr>\n",
       "    <tr>\n",
       "      <th>1</th>\n",
       "      <td>Super Mario Bros.</td>\n",
       "      <td>29.08</td>\n",
       "      <td>40.24</td>\n",
       "      <td>72.266402</td>\n",
       "    </tr>\n",
       "    <tr>\n",
       "      <th>2</th>\n",
       "      <td>Mario Kart Wii</td>\n",
       "      <td>15.68</td>\n",
       "      <td>35.52</td>\n",
       "      <td>44.144144</td>\n",
       "    </tr>\n",
       "    <tr>\n",
       "      <th>3</th>\n",
       "      <td>Wii Sports Resort</td>\n",
       "      <td>15.61</td>\n",
       "      <td>32.77</td>\n",
       "      <td>47.635032</td>\n",
       "    </tr>\n",
       "    <tr>\n",
       "      <th>4</th>\n",
       "      <td>Pokemon Red/Pokemon Blue</td>\n",
       "      <td>11.27</td>\n",
       "      <td>31.37</td>\n",
       "      <td>35.926044</td>\n",
       "    </tr>\n",
       "  </tbody>\n",
       "</table>\n",
       "</div>"
      ],
      "text/plain": [
       "                       Name  NA_Sales  Global_Sales  NA_Sales_Percentage\n",
       "0                Wii Sports     41.36         82.53            50.115110\n",
       "1         Super Mario Bros.     29.08         40.24            72.266402\n",
       "2            Mario Kart Wii     15.68         35.52            44.144144\n",
       "3         Wii Sports Resort     15.61         32.77            47.635032\n",
       "4  Pokemon Red/Pokemon Blue     11.27         31.37            35.926044"
      ]
     },
     "execution_count": 24,
     "metadata": {},
     "output_type": "execute_result"
    }
   ],
   "source": [
    "# Creating a new column for the percentage of global sales from North America\n",
    "df_vgs['NA_Sales_Percentage'] = (df_vgs['NA_Sales'] / df_vgs['Global_Sales']) * 100\n",
    "\n",
    "# Displaying the first five rows of the updated DataFrame\n",
    "updated_df_vgs = df_vgs.head(5)\n",
    "updated_df_vgs[['Name', 'NA_Sales', 'Global_Sales', 'NA_Sales_Percentage']]"
   ]
  },
  {
   "cell_type": "markdown",
   "id": "1aeaac55",
   "metadata": {},
   "source": [
    "## 9) Find NaN entries per column"
   ]
  },
  {
   "cell_type": "markdown",
   "id": "2aa5fb9e",
   "metadata": {},
   "source": [
    "***Instructions)***\n",
    "\n",
    "Find the number NaN entries (missing data values) in each column."
   ]
  },
  {
   "cell_type": "markdown",
   "id": "b361419b",
   "metadata": {},
   "source": [
    "***Answer)***"
   ]
  },
  {
   "cell_type": "code",
   "execution_count": 28,
   "id": "738707ec",
   "metadata": {},
   "outputs": [
    {
     "data": {
      "text/plain": [
       "Name                      2\n",
       "Platform                  0\n",
       "Year_of_Release         269\n",
       "Genre                     2\n",
       "Publisher                54\n",
       "NA_Sales                  0\n",
       "EU_Sales                  0\n",
       "JP_Sales                  0\n",
       "Other_Sales               0\n",
       "Global_Sales              0\n",
       "Critic_Score           8582\n",
       "Critic_Count           8582\n",
       "User_Score             6704\n",
       "User_Count             9129\n",
       "Developer              6623\n",
       "Rating                 6769\n",
       "NA_Sales_Percentage       0\n",
       "dtype: int64"
      ]
     },
     "execution_count": 28,
     "metadata": {},
     "output_type": "execute_result"
    }
   ],
   "source": [
    "nan_counts = df_vgs.isna().sum()\n",
    "nan_counts"
   ]
  },
  {
   "cell_type": "markdown",
   "id": "c4039960",
   "metadata": {},
   "source": [
    "## 10) Calculating Median User Scores"
   ]
  },
  {
   "cell_type": "markdown",
   "id": "969f409d",
   "metadata": {},
   "source": [
    "***Instructions)***\n",
    "\n",
    "Try to calculate the median user score of all the video games. \n",
    "\n",
    "You will likely run into an error because some of the user score entries are a non-numerical string that cannot be converted to a float. \n",
    "- Find and replace this string with NaN and then calculate the median. \n",
    "- Then, replace all NaN entries in the user score column with the median value."
   ]
  },
  {
   "cell_type": "markdown",
   "id": "456cf552",
   "metadata": {},
   "source": [
    "***Answer)***"
   ]
  },
  {
   "cell_type": "code",
   "execution_count": 29,
   "id": "dcbcc49e",
   "metadata": {},
   "outputs": [
    {
     "data": {
      "text/plain": [
       "2425"
      ]
     },
     "execution_count": 29,
     "metadata": {},
     "output_type": "execute_result"
    }
   ],
   "source": [
    "# Counting the number of 'tbd' string values in the 'User_Score' column\n",
    "tbd_count = (df_vgs['User_Score'] == 'tbd').sum()\n",
    "tbd_count\n",
    "\n",
    "# These values will need to be replaced with Null Values"
   ]
  },
  {
   "cell_type": "code",
   "execution_count": 30,
   "id": "4ded158b",
   "metadata": {},
   "outputs": [],
   "source": [
    "# Replacing 'tbd' values with NaN in the 'User_Score' column\n",
    "df_vgs['User_Score'].replace('tbd', float('nan'), inplace=True)\n",
    "\n",
    "# Converting 'User_Score' from object to float data type\n",
    "df_vgs['User_Score'] = df_vgs['User_Score'].astype(float)\n"
   ]
  },
  {
   "cell_type": "code",
   "execution_count": 31,
   "id": "6ed6d561",
   "metadata": {},
   "outputs": [
    {
     "data": {
      "text/plain": [
       "7.5"
      ]
     },
     "execution_count": 31,
     "metadata": {},
     "output_type": "execute_result"
    }
   ],
   "source": [
    "# Calculating the median user score after replacing 'tbd' with NaN\n",
    "median_user_score = df_vgs['User_Score'].median()\n",
    "median_user_score"
   ]
  },
  {
   "cell_type": "code",
   "execution_count": 35,
   "id": "c321d558",
   "metadata": {},
   "outputs": [
    {
     "data": {
      "text/plain": [
       "(0,\n",
       "                        Name Platform  Year_of_Release         Genre Publisher  \\\n",
       " 0                Wii Sports      Wii           2006.0        Sports  Nintendo   \n",
       " 1         Super Mario Bros.      NES           1985.0      Platform  Nintendo   \n",
       " 2            Mario Kart Wii      Wii           2008.0        Racing  Nintendo   \n",
       " 3         Wii Sports Resort      Wii           2009.0        Sports  Nintendo   \n",
       " 4  Pokemon Red/Pokemon Blue       GB           1996.0  Role-Playing  Nintendo   \n",
       " \n",
       "    NA_Sales  EU_Sales  JP_Sales  Other_Sales  Global_Sales  Critic_Score  \\\n",
       " 0     41.36     28.96      3.77         8.45         82.53          76.0   \n",
       " 1     29.08      3.58      6.81         0.77         40.24           NaN   \n",
       " 2     15.68     12.76      3.79         3.29         35.52          82.0   \n",
       " 3     15.61     10.93      3.28         2.95         32.77          80.0   \n",
       " 4     11.27      8.89     10.22         1.00         31.37           NaN   \n",
       " \n",
       "    Critic_Count  User_Score  User_Count Developer Rating  NA_Sales_Percentage  \n",
       " 0          51.0         8.0       322.0  Nintendo      E            50.115110  \n",
       " 1           NaN         7.5         NaN       NaN    NaN            72.266402  \n",
       " 2          73.0         8.3       709.0  Nintendo      E            44.144144  \n",
       " 3          73.0         8.0       192.0  Nintendo      E            47.635032  \n",
       " 4           NaN         7.5         NaN       NaN    NaN            35.926044  )"
      ]
     },
     "execution_count": 35,
     "metadata": {},
     "output_type": "execute_result"
    }
   ],
   "source": [
    "# Replacing all NaN values in the 'User_Score' column with the median value\n",
    "df_vgs['User_Score'].fillna(median_user_score, inplace=True)\n",
    "\n",
    "\n",
    "# Verifying the replacement\n",
    "remaining_nan_count = df_vgs['User_Score'].isna().sum()\n",
    "remaining_nan_count, df_vgs.head()  # Displaying the first few rows for verification"
   ]
  }
 ],
 "metadata": {
  "kernelspec": {
   "display_name": "Python 3 (ipykernel)",
   "language": "python",
   "name": "python3"
  },
  "language_info": {
   "codemirror_mode": {
    "name": "ipython",
    "version": 3
   },
   "file_extension": ".py",
   "mimetype": "text/x-python",
   "name": "python",
   "nbconvert_exporter": "python",
   "pygments_lexer": "ipython3",
   "version": "3.11.4"
  }
 },
 "nbformat": 4,
 "nbformat_minor": 5
}
